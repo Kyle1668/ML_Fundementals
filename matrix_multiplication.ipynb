{
 "cells": [
  {
   "cell_type": "code",
   "execution_count": 3,
   "metadata": {},
   "outputs": [],
   "source": [
    "import torch"
   ]
  },
  {
   "cell_type": "code",
   "execution_count": 9,
   "metadata": {},
   "outputs": [
    {
     "data": {
      "text/plain": [
       "tensor([[0., 3., 5.],\n",
       "        [5., 5., 2.]])"
      ]
     },
     "metadata": {},
     "output_type": "display_data"
    },
    {
     "data": {
      "text/plain": [
       "tensor([[1., 1., 1., 1., 1., 1., 1., 1., 1., 1.],\n",
       "        [1., 1., 1., 1., 1., 1., 1., 1., 1., 1.],\n",
       "        [1., 1., 1., 1., 1., 1., 1., 1., 1., 1.]])"
      ]
     },
     "metadata": {},
     "output_type": "display_data"
    },
    {
     "data": {
      "text/plain": [
       "tensor([[ 8.,  8.,  8.,  8.,  8.,  8.,  8.,  8.,  8.,  8.],\n",
       "        [12., 12., 12., 12., 12., 12., 12., 12., 12., 12.]])"
      ]
     },
     "execution_count": 9,
     "metadata": {},
     "output_type": "execute_result"
    }
   ],
   "source": [
    "E = torch.Tensor(\n",
    "[\n",
    "    [0, 3, 5],\n",
    "    [5, 5, 2]\n",
    "])\n",
    "# D = torch.Tensor(\n",
    "# [\n",
    "#     [3, 4, 1],\n",
    "#     [3, -2, 1],\n",
    "#     [4, -2, 1]\n",
    "# ])\n",
    "D = torch.ones(3, 10)\n",
    "display(E)\n",
    "display(D)\n",
    "E @ D\n"
   ]
  },
  {
   "cell_type": "code",
   "execution_count": 12,
   "metadata": {},
   "outputs": [
    {
     "data": {
      "text/plain": [
       "tensor([778.])"
      ]
     },
     "execution_count": 12,
     "metadata": {},
     "output_type": "execute_result"
    }
   ],
   "source": [
    "def linear_regression(x):\n",
    "    w = torch.Tensor([[2], [10]])\n",
    "    b = 78\n",
    "    return (w.T @ x) + b\n",
    "\n",
    "x_in = torch.Tensor([100, 50])\n",
    "linear_regression(x_in)"
   ]
  }
 ],
 "metadata": {
  "kernelspec": {
   "display_name": "llm-tta",
   "language": "python",
   "name": "python3"
  },
  "language_info": {
   "codemirror_mode": {
    "name": "ipython",
    "version": 3
   },
   "file_extension": ".py",
   "mimetype": "text/x-python",
   "name": "python",
   "nbconvert_exporter": "python",
   "pygments_lexer": "ipython3",
   "version": "3.10.13"
  }
 },
 "nbformat": 4,
 "nbformat_minor": 2
}
