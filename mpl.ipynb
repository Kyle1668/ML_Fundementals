{
 "cells": [
  {
   "cell_type": "code",
   "execution_count": 1,
   "metadata": {},
   "outputs": [],
   "source": [
    "import torch\n",
    "import math\n",
    "import torch.optim as optim\n",
    "from torch.nn import Module, Linear, ReLU, BCELoss, Softmax, Parameter\n",
    "import seaborn as sns\n",
    "import matplotlib.pyplot as plt"
   ]
  },
  {
   "cell_type": "code",
   "execution_count": 2,
   "metadata": {},
   "outputs": [],
   "source": [
    "# class MLP(Module):\n",
    "#     def __init__(self):\n",
    "#         super().__init__()\n",
    "#         self.l1_layer = Linear(3, 5, False)\n",
    "#         self.l1_activation = ReLU()\n",
    "\n",
    "#         # Hidden Layer\n",
    "#         self.l2_layer = Linear(5, 10, False)\n",
    "#         self.l2_activation = ReLU()\n",
    "\n",
    "#         # Output Layer\n",
    "#         self.l3_layer = Linear(10, 2, False)\n",
    "#         self.l3_activation = Softmax()\n",
    "                \n",
    "    # def forward(self, batch_tensors):\n",
    "    #     y = self.l1_activation(self.l1_layer(batch_tensors))\n",
    "    #     # print(f\"First Layer Activations: {y}\")\n",
    "    #     y = self.l2_activation(self.l2_layer(y))\n",
    "    #     # print(f\"Second Layer Activations: {y}\")\n",
    "    #     y = self.l3_activation(self.l3_layer(y))\n",
    "    #     # print(f\"Third Layer Activations: {y}\")\n",
    "    #     return y\n",
    "\n",
    "class MLP(Module):\n",
    "    def __init__(self):\n",
    "        super().__init__()\n",
    "        self.l1_layer = Parameter(torch.rand(3, 5))\n",
    "        self.l1_activation = ReLU()\n",
    "\n",
    "        self.l2_layer = Parameter(torch.rand(5, 10))\n",
    "        self.l2_activation = ReLU()\n",
    "\n",
    "        self.l3_layer = Parameter(torch.rand(10, 2))\n",
    "        self.l3_activation = Softmax()\n",
    "\n",
    "    def forward(self, batch_tensors):\n",
    "        y = batch_tensors @ self.l1_layer\n",
    "        y = self.l1_activation(y)\n",
    "\n",
    "        y = y @ self.l2_layer\n",
    "        y = self.l2_activation(y)\n",
    "\n",
    "        y = y @ self.l3_layer\n",
    "        y = self.l3_activation(y)\n",
    "\n",
    "        return y\n",
    "\n",
    "\n",
    "\n"
   ]
  },
  {
   "cell_type": "code",
   "execution_count": 3,
   "metadata": {},
   "outputs": [
    {
     "name": "stderr",
     "output_type": "stream",
     "text": [
      "/Users/kyle/miniconda3/envs/llm-tta/lib/python3.10/site-packages/tqdm/auto.py:21: TqdmWarning: IProgress not found. Please update jupyter and ipywidgets. See https://ipywidgets.readthedocs.io/en/stable/user_install.html\n",
      "  from .autonotebook import tqdm as notebook_tqdm\n",
      "/Users/kyle/miniconda3/envs/llm-tta/lib/python3.10/site-packages/torch/nn/modules/module.py:1511: UserWarning: Implicit dimension choice for softmax has been deprecated. Change the call to include dim=X as an argument.\n",
      "  return self._call_impl(*args, **kwargs)\n"
     ]
    },
    {
     "data": {
      "text/plain": [
       "Text(0, 0.5, 'Loss')"
      ]
     },
     "execution_count": 3,
     "metadata": {},
     "output_type": "execute_result"
    },
    {
     "data": {
      "image/png": "[encoded data removed]",
      "text/plain": [
       "<Figure size 640x480 with 1 Axes>"
      ]
     },
     "metadata": {},
     "output_type": "display_data"
    }
   ],
   "source": [
    "model = MLP()\n",
    "loss_function = BCELoss()\n",
    "optimizer = optim.AdamW(model.parameters(), lr=0.01)\n",
    "losses = []\n",
    "\n",
    "for _ in range(50):\n",
    "    input = torch.rand(3)\n",
    "    output = model(input)\n",
    "    label = torch.Tensor([0, 1])\n",
    "    loss = loss_function(output, label)\n",
    "    loss.backward()\n",
    "    optimizer.step()\n",
    "    optimizer.zero_grad()\n",
    "    losses.append(loss.item())\n",
    "\n",
    "fig = sns.lineplot(losses)\n",
    "plt.xlabel(\"Epochs\")\n",
    "plt.ylabel(\"Loss\")"
   ]
  }
 ],
 "metadata": {
  "kernelspec": {
   "display_name": "llm-tta",
   "language": "python",
   "name": "python3"
  },
  "language_info": {
   "codemirror_mode": {
    "name": "ipython",
    "version": 3
   },
   "file_extension": ".py",
   "mimetype": "text/x-python",
   "name": "python",
   "nbconvert_exporter": "python",
   "pygments_lexer": "ipython3",
   "version": "3.10.13"
  }
 },
 "nbformat": 4,
 "nbformat_minor": 2
}
